{
 "cells": [
  {
   "cell_type": "code",
   "execution_count": 372,
   "metadata": {},
   "outputs": [],
   "source": [
    "#Import dependencies\n",
    "import pandas as pd\n",
    "%matplotlib inline\n",
    "import matplotlib.pyplot as plt\n",
    "import seaborn as sns\n",
    "import numpy as np\n",
    "from sklearn import preprocessing"
   ]
  },
  {
   "cell_type": "code",
   "execution_count": 373,
   "metadata": {},
   "outputs": [
    {
     "data": {
      "text/html": [
       "<div>\n",
       "<style scoped>\n",
       "    .dataframe tbody tr th:only-of-type {\n",
       "        vertical-align: middle;\n",
       "    }\n",
       "\n",
       "    .dataframe tbody tr th {\n",
       "        vertical-align: top;\n",
       "    }\n",
       "\n",
       "    .dataframe thead th {\n",
       "        text-align: right;\n",
       "    }\n",
       "</style>\n",
       "<table border=\"1\" class=\"dataframe\">\n",
       "  <thead>\n",
       "    <tr style=\"text-align: right;\">\n",
       "      <th></th>\n",
       "      <th>Date</th>\n",
       "      <th>Time</th>\n",
       "      <th>CO(GT)</th>\n",
       "      <th>PT08.S1(CO)</th>\n",
       "      <th>NMHC(GT)</th>\n",
       "      <th>C6H6(GT)</th>\n",
       "      <th>PT08.S2(NMHC)</th>\n",
       "      <th>NOx(GT)</th>\n",
       "      <th>PT08.S3(NOx)</th>\n",
       "      <th>NO2(GT)</th>\n",
       "      <th>PT08.S4(NO2)</th>\n",
       "      <th>PT08.S5(O3)</th>\n",
       "      <th>T</th>\n",
       "      <th>RH</th>\n",
       "      <th>AH</th>\n",
       "    </tr>\n",
       "  </thead>\n",
       "  <tbody>\n",
       "    <tr>\n",
       "      <th>0</th>\n",
       "      <td>2004-03-10</td>\n",
       "      <td>18:00:00</td>\n",
       "      <td>2.6</td>\n",
       "      <td>1360.00</td>\n",
       "      <td>150</td>\n",
       "      <td>11.881723</td>\n",
       "      <td>1045.50</td>\n",
       "      <td>166.0</td>\n",
       "      <td>1056.25</td>\n",
       "      <td>113.0</td>\n",
       "      <td>1692.00</td>\n",
       "      <td>1267.50</td>\n",
       "      <td>13.60</td>\n",
       "      <td>48.875001</td>\n",
       "      <td>0.757754</td>\n",
       "    </tr>\n",
       "    <tr>\n",
       "      <th>1</th>\n",
       "      <td>2004-03-10</td>\n",
       "      <td>19:00:00</td>\n",
       "      <td>2.0</td>\n",
       "      <td>1292.25</td>\n",
       "      <td>112</td>\n",
       "      <td>9.397165</td>\n",
       "      <td>954.75</td>\n",
       "      <td>103.0</td>\n",
       "      <td>1173.75</td>\n",
       "      <td>92.0</td>\n",
       "      <td>1558.75</td>\n",
       "      <td>972.25</td>\n",
       "      <td>13.30</td>\n",
       "      <td>47.700000</td>\n",
       "      <td>0.725487</td>\n",
       "    </tr>\n",
       "    <tr>\n",
       "      <th>2</th>\n",
       "      <td>2004-03-10</td>\n",
       "      <td>20:00:00</td>\n",
       "      <td>2.2</td>\n",
       "      <td>1402.00</td>\n",
       "      <td>88</td>\n",
       "      <td>8.997817</td>\n",
       "      <td>939.25</td>\n",
       "      <td>131.0</td>\n",
       "      <td>1140.00</td>\n",
       "      <td>114.0</td>\n",
       "      <td>1554.50</td>\n",
       "      <td>1074.00</td>\n",
       "      <td>11.90</td>\n",
       "      <td>53.975000</td>\n",
       "      <td>0.750239</td>\n",
       "    </tr>\n",
       "    <tr>\n",
       "      <th>3</th>\n",
       "      <td>2004-03-10</td>\n",
       "      <td>21:00:00</td>\n",
       "      <td>2.2</td>\n",
       "      <td>1375.50</td>\n",
       "      <td>80</td>\n",
       "      <td>9.228796</td>\n",
       "      <td>948.25</td>\n",
       "      <td>172.0</td>\n",
       "      <td>1092.00</td>\n",
       "      <td>122.0</td>\n",
       "      <td>1583.75</td>\n",
       "      <td>1203.25</td>\n",
       "      <td>11.00</td>\n",
       "      <td>60.000000</td>\n",
       "      <td>0.786713</td>\n",
       "    </tr>\n",
       "    <tr>\n",
       "      <th>4</th>\n",
       "      <td>2004-03-10</td>\n",
       "      <td>22:00:00</td>\n",
       "      <td>1.6</td>\n",
       "      <td>1272.25</td>\n",
       "      <td>51</td>\n",
       "      <td>6.518224</td>\n",
       "      <td>835.50</td>\n",
       "      <td>131.0</td>\n",
       "      <td>1205.00</td>\n",
       "      <td>116.0</td>\n",
       "      <td>1490.00</td>\n",
       "      <td>1110.00</td>\n",
       "      <td>11.15</td>\n",
       "      <td>59.575001</td>\n",
       "      <td>0.788794</td>\n",
       "    </tr>\n",
       "  </tbody>\n",
       "</table>\n",
       "</div>"
      ],
      "text/plain": [
       "        Date      Time  CO(GT)  PT08.S1(CO)  NMHC(GT)   C6H6(GT)  \\\n",
       "0 2004-03-10  18:00:00     2.6      1360.00       150  11.881723   \n",
       "1 2004-03-10  19:00:00     2.0      1292.25       112   9.397165   \n",
       "2 2004-03-10  20:00:00     2.2      1402.00        88   8.997817   \n",
       "3 2004-03-10  21:00:00     2.2      1375.50        80   9.228796   \n",
       "4 2004-03-10  22:00:00     1.6      1272.25        51   6.518224   \n",
       "\n",
       "   PT08.S2(NMHC)  NOx(GT)  PT08.S3(NOx)  NO2(GT)  PT08.S4(NO2)  PT08.S5(O3)  \\\n",
       "0        1045.50    166.0       1056.25    113.0       1692.00      1267.50   \n",
       "1         954.75    103.0       1173.75     92.0       1558.75       972.25   \n",
       "2         939.25    131.0       1140.00    114.0       1554.50      1074.00   \n",
       "3         948.25    172.0       1092.00    122.0       1583.75      1203.25   \n",
       "4         835.50    131.0       1205.00    116.0       1490.00      1110.00   \n",
       "\n",
       "       T         RH        AH  \n",
       "0  13.60  48.875001  0.757754  \n",
       "1  13.30  47.700000  0.725487  \n",
       "2  11.90  53.975000  0.750239  \n",
       "3  11.00  60.000000  0.786713  \n",
       "4  11.15  59.575001  0.788794  "
      ]
     },
     "execution_count": 373,
     "metadata": {},
     "output_type": "execute_result"
    }
   ],
   "source": [
    "#Create dataframe\n",
    "df = pd.read_excel('/Users/bbaidya/q3/AirQuality.xlsx')\n",
    "#Display & examine some data\n",
    "df.head()"
   ]
  },
  {
   "cell_type": "code",
   "execution_count": 374,
   "metadata": {},
   "outputs": [
    {
     "data": {
      "text/plain": [
       "<matplotlib.axes._subplots.AxesSubplot at 0x7fdc21296650>"
      ]
     },
     "execution_count": 374,
     "metadata": {},
     "output_type": "execute_result"
    },
    {
     "data": {
      "image/png": "[encoded data removed]",
      "text/plain": [
       "<Figure size 432x288 with 1 Axes>"
      ]
     },
     "metadata": {
      "needs_background": "light"
     },
     "output_type": "display_data"
    }
   ],
   "source": [
    "df.replace(to_replace= -200, value= np.NaN, inplace= True)\n",
    "sns.heatmap(df.isnull(),yticklabels=False,cbar=False,cmap='viridis')"
   ]
  },
  {
   "cell_type": "code",
   "execution_count": 375,
   "metadata": {},
   "outputs": [],
   "source": [
    "df.drop(['NMHC(GT)'], axis= 1, inplace= True)"
   ]
  },
  {
   "cell_type": "code",
   "execution_count": 376,
   "metadata": {},
   "outputs": [
    {
     "data": {
      "text/plain": [
       "(9357, 14)"
      ]
     },
     "execution_count": 376,
     "metadata": {},
     "output_type": "execute_result"
    },
    {
     "data": {
      "image/png": "[encoded data removed]",
      "text/plain": [
       "<Figure size 432x288 with 1 Axes>"
      ]
     },
     "metadata": {
      "needs_background": "light"
     },
     "output_type": "display_data"
    }
   ],
   "source": [
    "sns.heatmap(df.isnull(),yticklabels=False,cbar=False,cmap='viridis')\n",
    "df.shape"
   ]
  },
  {
   "cell_type": "code",
   "execution_count": 377,
   "metadata": {},
   "outputs": [],
   "source": [
    "df[\"CO(GT)\"] = df.groupby(\"Date\")[\"CO(GT)\"].transform(lambda x: x.fillna(x.mean()))\n",
    "df[\"NOx(GT)\"] = df.groupby(\"Date\")[\"NOx(GT)\"].transform(lambda x: x.fillna(x.mean()))\n",
    "df[\"NO2(GT)\"] = df.groupby(\"Date\")[\"NO2(GT)\"].transform(lambda x: x.fillna(x.mean()))"
   ]
  },
  {
   "cell_type": "code",
   "execution_count": 378,
   "metadata": {},
   "outputs": [
    {
     "data": {
      "text/plain": [
       "<matplotlib.axes._subplots.AxesSubplot at 0x7fdc385aef50>"
      ]
     },
     "execution_count": 378,
     "metadata": {},
     "output_type": "execute_result"
    },
    {
     "data": {
      "image/png": "[encoded data removed]",
      "text/plain": [
       "<Figure size 432x288 with 1 Axes>"
      ]
     },
     "metadata": {
      "needs_background": "light"
     },
     "output_type": "display_data"
    }
   ],
   "source": [
    "sns.heatmap(df.isnull(),yticklabels=False,cbar=False,cmap='viridis')"
   ]
  },
  {
   "cell_type": "code",
   "execution_count": 379,
   "metadata": {},
   "outputs": [],
   "source": [
    "df.fillna(method='ffill', inplace= True)"
   ]
  },
  {
   "cell_type": "code",
   "execution_count": 380,
   "metadata": {},
   "outputs": [
    {
     "data": {
      "text/plain": [
       "<matplotlib.axes._subplots.AxesSubplot at 0x7fdc22a2f4d0>"
      ]
     },
     "execution_count": 380,
     "metadata": {},
     "output_type": "execute_result"
    },
    {
     "data": {
      "image/png": "[encoded data removed]",
      "text/plain": [
       "<Figure size 1080x720 with 2 Axes>"
      ]
     },
     "metadata": {
      "needs_background": "light"
     },
     "output_type": "display_data"
    }
   ],
   "source": [
    "plt.figure(figsize=(15, 10))\n",
    "sns.heatmap(df.corr(), annot=True, cmap='viridis')"
   ]
  },
  {
   "cell_type": "code",
   "execution_count": 381,
   "metadata": {},
   "outputs": [
    {
     "data": {
      "text/plain": [
       "Index(['Date', 'Time', 'CO(GT)', 'PT08.S1(CO)', 'C6H6(GT)', 'PT08.S2(NMHC)',\n",
       "       'NOx(GT)', 'PT08.S3(NOx)', 'NO2(GT)', 'PT08.S4(NO2)', 'PT08.S5(O3)',\n",
       "       'T', 'RH', 'AH'],\n",
       "      dtype='object')"
      ]
     },
     "execution_count": 381,
     "metadata": {},
     "output_type": "execute_result"
    }
   ],
   "source": [
    "df.columns"
   ]
  },
  {
   "cell_type": "markdown",
   "metadata": {},
   "source": [
    "# Minibatch Gradient Descent"
   ]
  },
  {
   "cell_type": "code",
   "execution_count": 428,
   "metadata": {},
   "outputs": [],
   "source": [
    "mb_learning_rate = 0.001\n",
    "mb_max_iteration = 10000\n",
    "batch_size = 1000"
   ]
  },
  {
   "cell_type": "code",
   "execution_count": 429,
   "metadata": {},
   "outputs": [],
   "source": [
    "def h (theta, X) :\n",
    "  tempX = np.ones((X.shape[0], X.shape[1] + 1))\n",
    "  tempX[:,1:] = X\n",
    "  return np.matmul(tempX, theta)"
   ]
  },
  {
   "cell_type": "code",
   "execution_count": 430,
   "metadata": {},
   "outputs": [],
   "source": [
    "def loss (theta, X, Y) :\n",
    "  return np.average(np.square(Y - h(theta, X))) / 2"
   ]
  },
  {
   "cell_type": "code",
   "execution_count": 431,
   "metadata": {},
   "outputs": [],
   "source": [
    "def gradient (theta, X, Y) :\n",
    "  tempX = np.ones((X.shape[0], X.shape[1] + 1))\n",
    "  tempX[:,1:] = X\n",
    "  d_theta = - np.average((Y - h(theta, X)) * tempX, axis= 0)\n",
    "  d_theta = d_theta.reshape((d_theta.shape[0], 1))\n",
    "  return d_theta"
   ]
  },
  {
   "cell_type": "code",
   "execution_count": 432,
   "metadata": {
    "scrolled": false
   },
   "outputs": [],
   "source": [
    "def minibatch_gradient_descent (theta, X, Y, learning_rate, max_iteration, batch_size, gap) :\n",
    "  cost = np.zeros(max_iteration)\n",
    "  prediction_list = []\n",
    "  for i in range(max_iteration) :\n",
    "    for j in range(0, X.shape[0], batch_size):\n",
    "      d_theta = gradient (theta, X[j:j+batch_size,:], Y[j:j+batch_size,:])\n",
    "      theta = theta - learning_rate * d_theta\n",
    "    cost[i] = loss(theta, X, Y)\n",
    "    #if i % gap == 0 :\n",
    "      #print ('iteration : ', i, ' loss : ', loss(theta, X, Y))     \n",
    "  return theta, cost, prediction_list"
   ]
  },
  {
   "cell_type": "code",
   "execution_count": 433,
   "metadata": {},
   "outputs": [
    {
     "ename": "ValueError",
     "evalue": "shapes (9357,1) and (2,1) not aligned: 1 (dim 1) != 2 (dim 0)",
     "output_type": "error",
     "traceback": [
      "\u001b[0;31m---------------------------------------------------------------------------\u001b[0m",
      "\u001b[0;31mValueError\u001b[0m                                Traceback (most recent call last)",
      "\u001b[0;32m<ipython-input-433-8c8be47941b8>\u001b[0m in \u001b[0;36m<module>\u001b[0;34m\u001b[0m\n\u001b[1;32m      7\u001b[0m \u001b[0;31m#print(mb_theta)\u001b[0m\u001b[0;34m\u001b[0m\u001b[0;34m\u001b[0m\u001b[0;34m\u001b[0m\u001b[0m\n\u001b[1;32m      8\u001b[0m \u001b[0;34m\u001b[0m\u001b[0m\n\u001b[0;32m----> 9\u001b[0;31m \u001b[0mmb_theta\u001b[0m\u001b[0;34m,\u001b[0m \u001b[0mmb_cost\u001b[0m\u001b[0;34m,\u001b[0m \u001b[0mprediction_list\u001b[0m \u001b[0;34m=\u001b[0m \u001b[0mminibatch_gradient_descent\u001b[0m \u001b[0;34m(\u001b[0m\u001b[0mmb_theta\u001b[0m\u001b[0;34m,\u001b[0m \u001b[0mX\u001b[0m\u001b[0;34m,\u001b[0m \u001b[0mY\u001b[0m\u001b[0;34m,\u001b[0m \u001b[0mmb_learning_rate\u001b[0m\u001b[0;34m,\u001b[0m \u001b[0mmb_max_iteration\u001b[0m\u001b[0;34m,\u001b[0m \u001b[0mbatch_size\u001b[0m\u001b[0;34m,\u001b[0m \u001b[0;36m100\u001b[0m\u001b[0;34m)\u001b[0m\u001b[0;34m\u001b[0m\u001b[0;34m\u001b[0m\u001b[0m\n\u001b[0m\u001b[1;32m     10\u001b[0m \u001b[0;34m\u001b[0m\u001b[0m\n\u001b[1;32m     11\u001b[0m \u001b[0;31m#print(x.shape)\u001b[0m\u001b[0;34m\u001b[0m\u001b[0;34m\u001b[0m\u001b[0;34m\u001b[0m\u001b[0m\n",
      "\u001b[0;32m<ipython-input-432-ae517b3a0ee1>\u001b[0m in \u001b[0;36mminibatch_gradient_descent\u001b[0;34m(theta, X, Y, learning_rate, max_iteration, batch_size, gap)\u001b[0m\n\u001b[1;32m      9\u001b[0m     \u001b[0;31m#if i % gap == 0 :\u001b[0m\u001b[0;34m\u001b[0m\u001b[0;34m\u001b[0m\u001b[0;34m\u001b[0m\u001b[0m\n\u001b[1;32m     10\u001b[0m       \u001b[0;31m#print ('iteration : ', i, ' loss : ', loss(theta, X, Y))\u001b[0m\u001b[0;34m\u001b[0m\u001b[0;34m\u001b[0m\u001b[0;34m\u001b[0m\u001b[0m\n\u001b[0;32m---> 11\u001b[0;31m   \u001b[0mprediction\u001b[0m \u001b[0;34m=\u001b[0m \u001b[0mnp\u001b[0m\u001b[0;34m.\u001b[0m\u001b[0mdot\u001b[0m\u001b[0;34m(\u001b[0m\u001b[0mx\u001b[0m\u001b[0;34m,\u001b[0m \u001b[0mtheta\u001b[0m\u001b[0;34m)\u001b[0m   \u001b[0;31m#predicted y values theta_0*x0+theta_1*x1\u001b[0m\u001b[0;34m\u001b[0m\u001b[0;34m\u001b[0m\u001b[0m\n\u001b[0m\u001b[1;32m     12\u001b[0m   \u001b[0mprediction_list\u001b[0m\u001b[0;34m.\u001b[0m\u001b[0mappend\u001b[0m\u001b[0;34m(\u001b[0m\u001b[0mprediction\u001b[0m\u001b[0;34m)\u001b[0m\u001b[0;34m\u001b[0m\u001b[0;34m\u001b[0m\u001b[0m\n\u001b[1;32m     13\u001b[0m   \u001b[0;32mreturn\u001b[0m \u001b[0mtheta\u001b[0m\u001b[0;34m,\u001b[0m \u001b[0mcost\u001b[0m\u001b[0;34m,\u001b[0m \u001b[0mprediction_list\u001b[0m\u001b[0;34m\u001b[0m\u001b[0;34m\u001b[0m\u001b[0m\n",
      "\u001b[0;32m<__array_function__ internals>\u001b[0m in \u001b[0;36mdot\u001b[0;34m(*args, **kwargs)\u001b[0m\n",
      "\u001b[0;31mValueError\u001b[0m: shapes (9357,1) and (2,1) not aligned: 1 (dim 1) != 2 (dim 0)"
     ]
    }
   ],
   "source": [
    "x_1 = preprocessing.scale(df['PT08.S1(CO)'])\n",
    "X = np.c_[x_1]\n",
    "x = np.c_[x_1]\n",
    "Y = np.c_[df['CO(GT)']]\n",
    "\n",
    "mb_theta = np.zeros((X.shape[1]+1, 1))\n",
    "#print(mb_theta)\n",
    "\n",
    "mb_theta, mb_cost, prediction_list = minibatch_gradient_descent (mb_theta, X, Y, mb_learning_rate, mb_max_iteration, batch_size, 100)\n",
    "\n",
    "#print(x.shape)\n",
    "yp = mb_theta[0] +mb_theta[1]*x[:,0]\n",
    "\n",
    "MSE_equ = ((yp-y)**2).mean()\n",
    "MSE_GD = ((prediction_list[-1]-y)**2).mean() \n",
    "\n",
    "print('Mean Square Error using equation of hyperplane : {}'.format(round(MSE_equ,3)))\n",
    "#print('Mean Square Error from Gradient Descent prediction : {}'.format(round(MSE_GD,3)))"
   ]
  },
  {
   "cell_type": "code",
   "execution_count": 424,
   "metadata": {},
   "outputs": [],
   "source": [
    "x_1 = preprocessing.scale(df['PT08.S1(CO)'])\n",
    "x_2 = preprocessing.scale(df['C6H6(GT)'])\n",
    "X = np.c_[x_1, x_2]\n",
    "x = np.c_[x_1, x_2]\n",
    "Y = np.c_[df['CO(GT)']]\n",
    "\n",
    "mb_theta = np.zeros((X.shape[1]+1, 1))\n",
    "#print(mb_theta)\n",
    "\n",
    "mb_theta, mb_cost, prediction_list = minibatch_gradient_descent (mb_theta, X, Y, mb_learning_rate, mb_max_iteration, batch_size, 100)"
   ]
  },
  {
   "cell_type": "code",
   "execution_count": 425,
   "metadata": {},
   "outputs": [
    {
     "name": "stdout",
     "output_type": "stream",
     "text": [
      "Mean Square Error using equation of hyperplane : 4.767\n"
     ]
    }
   ],
   "source": [
    "#print(x.shape)\n",
    "yp = mb_theta[0] +mb_theta[1]*x[:,0] + mb_theta[2]*x[:,1]\n",
    "\n",
    "MSE_equ = ((yp-y)**2).mean()\n",
    "#MSE_GD = ((prediction_list[-1]-y)**2).mean() \n",
    "\n",
    "print('Mean Square Error using equation of hyperplane : {}'.format(round(MSE_equ,3)))\n",
    "#print('Mean Square Error from Gradient Descent prediction : {}'.format(round(MSE_GD,3)))"
   ]
  },
  {
   "cell_type": "code",
   "execution_count": 391,
   "metadata": {},
   "outputs": [],
   "source": [
    "x_1 = preprocessing.scale(df['PT08.S1(CO)'])\n",
    "x_2 = preprocessing.scale(df['C6H6(GT)'])\n",
    "x_3 = preprocessing.scale(df['PT08.S2(NMHC)'])\n",
    "X = np.c_[x_1, x_2, x_3]\n",
    "x = np.c_[x_1, x_2, x_3]\n",
    "Y = np.c_[df['CO(GT)']]"
   ]
  },
  {
   "cell_type": "code",
   "execution_count": 392,
   "metadata": {},
   "outputs": [],
   "source": [
    "mb_theta = np.zeros((X.shape[1]+1, 1))\n",
    "#print(mb_theta)"
   ]
  },
  {
   "cell_type": "code",
   "execution_count": 393,
   "metadata": {},
   "outputs": [],
   "source": [
    "mb_theta, mb_cost, prediction_list = minibatch_gradient_descent (mb_theta, X, Y, mb_learning_rate, mb_max_iteration, batch_size, 100)"
   ]
  },
  {
   "cell_type": "code",
   "execution_count": 394,
   "metadata": {},
   "outputs": [
    {
     "data": {
      "text/plain": [
       "array([[ 2.07950054],\n",
       "       [ 0.47524626],\n",
       "       [ 0.93393586],\n",
       "       [-0.23667337]])"
      ]
     },
     "execution_count": 394,
     "metadata": {},
     "output_type": "execute_result"
    }
   ],
   "source": [
    "mb_theta"
   ]
  },
  {
   "cell_type": "code",
   "execution_count": 395,
   "metadata": {},
   "outputs": [
    {
     "name": "stdout",
     "output_type": "stream",
     "text": [
      "Mean Square Error using equation of hyperplane : 4.759\n"
     ]
    }
   ],
   "source": [
    "#print(mb_theta[1]*x[:,0])\n",
    "yp = mb_theta[0] + mb_theta[1]*x[:,0] + mb_theta[2]*x[:,1] + mb_theta[3]*x[:,2]\n",
    "\n",
    "MSE_equ = ((yp-y)**2).mean()\n",
    "#MSE_GD = ((prediction_list[-1]-y)**2).mean() \n",
    "\n",
    "print('Mean Square Error using equation of hyperplane : {}'.format(round(MSE_equ,3)))\n",
    "#print('Mean Square Error from Gradient Descent prediction : {}'.format(round(MSE_GD,3)))"
   ]
  },
  {
   "cell_type": "code",
   "execution_count": 396,
   "metadata": {},
   "outputs": [],
   "source": [
    "x_1 = preprocessing.scale(df['PT08.S1(CO)'])\n",
    "x_2 = preprocessing.scale(df['C6H6(GT)'])\n",
    "x_3 = preprocessing.scale(df['PT08.S2(NMHC)'])\n",
    "x_4 = preprocessing.scale(df['NOx(GT)'])\n",
    "X = np.c_[x_1, x_2, x_3, x_4]\n",
    "x = np.c_[x_1, x_2, x_3,x_4]\n",
    "Y = np.c_[df['CO(GT)']]"
   ]
  },
  {
   "cell_type": "code",
   "execution_count": 397,
   "metadata": {},
   "outputs": [],
   "source": [
    "mb_theta = np.zeros((X.shape[1]+1, 1))"
   ]
  },
  {
   "cell_type": "code",
   "execution_count": 398,
   "metadata": {},
   "outputs": [],
   "source": [
    "mb_theta, mb_cot, prediction_list = minibatch_gradient_descent (mb_theta, X, Y, mb_learning_rate, mb_max_iteration, batch_size, 100)"
   ]
  },
  {
   "cell_type": "code",
   "execution_count": 408,
   "metadata": {},
   "outputs": [
    {
     "name": "stdout",
     "output_type": "stream",
     "text": [
      "Mean Square Error using equation of hyperplane : 4.754\n"
     ]
    }
   ],
   "source": [
    "#print(mb_theta[1]*x[:,0])\n",
    "yp = mb_theta[0] + mb_theta[1]*x[:,0] + mb_theta[2]*x[:,1] + mb_theta[3]*x[:,2] + mb_theta[4]*x[:,3]\n",
    "\n",
    "MSE_equ = ((yp-y)**2).mean()\n",
    "#MSE_GD = ((prediction_list[-1]-y)**2).mean() \n",
    "\n",
    "print('Mean Square Error using equation of hyperplane : {}'.format(round(MSE_equ,3)))\n",
    "#print('Mean Square Error from Gradient Descent prediction : {}'.format(round(MSE_GD,3)))"
   ]
  },
  {
   "cell_type": "code",
   "execution_count": 409,
   "metadata": {},
   "outputs": [],
   "source": [
    "x_1 = preprocessing.scale(df['PT08.S1(CO)'])\n",
    "x_2 = preprocessing.scale(df['C6H6(GT)'])\n",
    "x_3 = preprocessing.scale(df['PT08.S2(NMHC)'])\n",
    "x_4 = preprocessing.scale(df['NOx(GT)'])\n",
    "x_5 = preprocessing.scale(df['PT08.S3(NOx)'])\n",
    "X = np.c_[x_1, x_2, x_3, x_4, x_5]\n",
    "x = np.c_[x_1, x_2, x_3,x_4, x_5]\n",
    "Y = np.c_[df['CO(GT)']]"
   ]
  },
  {
   "cell_type": "code",
   "execution_count": 410,
   "metadata": {},
   "outputs": [],
   "source": [
    "mb_theta = np.zeros((X.shape[1]+1, 1))"
   ]
  },
  {
   "cell_type": "code",
   "execution_count": 411,
   "metadata": {},
   "outputs": [],
   "source": [
    "mb_theta, mb_cot, prediction_list = minibatch_gradient_descent (mb_theta, X, Y, mb_learning_rate, mb_max_iteration, batch_size, 100)"
   ]
  },
  {
   "cell_type": "code",
   "execution_count": 412,
   "metadata": {},
   "outputs": [
    {
     "name": "stdout",
     "output_type": "stream",
     "text": [
      "Mean Square Error using equation of hyperplane : 4.692\n"
     ]
    }
   ],
   "source": [
    "#print(mb_theta[1]*x[:,0])\n",
    "yp = mb_theta[0] + mb_theta[1]*x[:,0] + mb_theta[2]*x[:,1] + mb_theta[3]*x[:,2] + mb_theta[4]*x[:,3] + mb_theta[5]*x[:,4]\n",
    "\n",
    "MSE_equ = ((yp-y)**2).mean()\n",
    "#MSE_GD = ((prediction_list[-1]-y)**2).mean() \n",
    "\n",
    "print('Mean Square Error using equation of hyperplane : {}'.format(round(MSE_equ,3)))\n",
    "#print('Mean Square Error from Gradient Descent prediction : {}'.format(round(MSE_GD,3)))"
   ]
  },
  {
   "cell_type": "code",
   "execution_count": 413,
   "metadata": {},
   "outputs": [],
   "source": [
    "x_1 = preprocessing.scale(df['PT08.S1(CO)'])\n",
    "x_2 = preprocessing.scale(df['C6H6(GT)'])\n",
    "x_3 = preprocessing.scale(df['PT08.S2(NMHC)'])\n",
    "x_4 = preprocessing.scale(df['NOx(GT)'])\n",
    "x_5 = preprocessing.scale(df['PT08.S3(NOx)'])\n",
    "x_6 = preprocessing.scale(df['NO2(GT)'])\n",
    "X = np.c_[x_1, x_2, x_3, x_4, x_5, x_6]\n",
    "x = np.c_[x_1, x_2, x_3,x_4, x_5, x_6]\n",
    "Y = np.c_[df['CO(GT)']]"
   ]
  },
  {
   "cell_type": "code",
   "execution_count": 414,
   "metadata": {},
   "outputs": [],
   "source": [
    "mb_theta = np.zeros((X.shape[1]+1, 1))"
   ]
  },
  {
   "cell_type": "code",
   "execution_count": 415,
   "metadata": {},
   "outputs": [],
   "source": [
    "mb_theta, mb_cot, prediction_list = minibatch_gradient_descent (mb_theta, X, Y, mb_learning_rate, mb_max_iteration, batch_size, 100)"
   ]
  },
  {
   "cell_type": "code",
   "execution_count": 416,
   "metadata": {},
   "outputs": [
    {
     "name": "stdout",
     "output_type": "stream",
     "text": [
      "Mean Square Error using equation of hyperplane : 4.685\n"
     ]
    }
   ],
   "source": [
    "#print(mb_theta[1]*x[:,0])\n",
    "yp = mb_theta[0] + mb_theta[1]*x[:,0] + mb_theta[2]*x[:,1] + mb_theta[3]*x[:,2] + mb_theta[4]*x[:,3] + mb_theta[5]*x[:,4]+ mb_theta[6]*x[:,5]\n",
    "MSE_equ = ((yp-y)**2).mean()\n",
    "#MSE_GD = ((prediction_list[-1]-y)**2).mean() \n",
    "\n",
    "print('Mean Square Error using equation of hyperplane : {}'.format(round(MSE_equ,3)))\n",
    "#print('Mean Square Error from Gradient Descent prediction : {}'.format(round(MSE_GD,3)))"
   ]
  },
  {
   "cell_type": "code",
   "execution_count": 417,
   "metadata": {},
   "outputs": [
    {
     "name": "stdout",
     "output_type": "stream",
     "text": [
      "Mean Square Error using equation of hyperplane : 4.684\n"
     ]
    }
   ],
   "source": [
    "x_1 = preprocessing.scale(df['PT08.S1(CO)'])\n",
    "x_2 = preprocessing.scale(df['C6H6(GT)'])\n",
    "x_3 = preprocessing.scale(df['PT08.S2(NMHC)'])\n",
    "x_4 = preprocessing.scale(df['NOx(GT)'])\n",
    "x_5 = preprocessing.scale(df['PT08.S3(NOx)'])\n",
    "x_6 = preprocessing.scale(df['NO2(GT)'])\n",
    "x_7 = preprocessing.scale(df['PT08.S4(NO2)'])\n",
    "X = np.c_[x_1, x_2, x_3, x_4, x_5, x_6, x_7]\n",
    "x = np.c_[x_1, x_2, x_3,x_4, x_5, x_6, x_7]\n",
    "Y = np.c_[df['CO(GT)']]\n",
    "\n",
    "mb_theta = np.zeros((X.shape[1]+1, 1))\n",
    "mb_theta, mb_cot, prediction_list = minibatch_gradient_descent (mb_theta, X, Y, mb_learning_rate, mb_max_iteration, batch_size, 100)\n",
    "\n",
    "#print(mb_theta[1]*x[:,0])\n",
    "yp = mb_theta[0] + mb_theta[1]*x[:,0] + mb_theta[2]*x[:,1] + mb_theta[3]*x[:,2] + mb_theta[4]*x[:,3] + mb_theta[5]*x[:,4]+ mb_theta[6]*x[:,5] + mb_theta[7]*x[:,6] \n",
    "MSE_equ = ((yp-y)**2).mean()\n",
    "#MSE_GD = ((prediction_list[-1]-y)**2).mean() \n",
    "\n",
    "print('Mean Square Error using equation of hyperplane : {}'.format(round(MSE_equ,3)))\n",
    "#print('Mean Square Error from Gradient Descent prediction : {}'.format(round(MSE_GD,3)))"
   ]
  },
  {
   "cell_type": "code",
   "execution_count": 418,
   "metadata": {},
   "outputs": [
    {
     "name": "stdout",
     "output_type": "stream",
     "text": [
      "Mean Square Error using equation of hyperplane : 4.678\n"
     ]
    }
   ],
   "source": [
    "x_1 = preprocessing.scale(df['PT08.S1(CO)'])\n",
    "x_2 = preprocessing.scale(df['C6H6(GT)'])\n",
    "x_3 = preprocessing.scale(df['PT08.S2(NMHC)'])\n",
    "x_4 = preprocessing.scale(df['NOx(GT)'])\n",
    "x_5 = preprocessing.scale(df['PT08.S3(NOx)'])\n",
    "x_6 = preprocessing.scale(df['NO2(GT)'])\n",
    "x_7 = preprocessing.scale(df['PT08.S4(NO2)'])\n",
    "x_8 = preprocessing.scale(df['PT08.S5(O3)'])\n",
    "X = np.c_[x_1, x_2, x_3, x_4, x_5, x_6, x_7, x_8]\n",
    "x = np.c_[x_1, x_2, x_3,x_4, x_5, x_6, x_7, x_8]\n",
    "Y = np.c_[df['CO(GT)']]\n",
    "\n",
    "mb_theta = np.zeros((X.shape[1]+1, 1))\n",
    "mb_theta, mb_cot, prediction_list = minibatch_gradient_descent (mb_theta, X, Y, mb_learning_rate, mb_max_iteration, batch_size, 100)\n",
    "\n",
    "#print(mb_theta[1]*x[:,0])\n",
    "yp = mb_theta[0] + mb_theta[1]*x[:,0] + mb_theta[2]*x[:,1] + mb_theta[3]*x[:,2] + mb_theta[4]*x[:,3] + mb_theta[5]*x[:,4]+ mb_theta[6]*x[:,5] + mb_theta[7]*x[:,6] + mb_theta[8]*x[:,7] \n",
    "MSE_equ = ((yp-y)**2).mean()\n",
    "#MSE_GD = ((prediction_list[-1]-y)**2).mean() \n",
    "\n",
    "print('Mean Square Error using equation of hyperplane : {}'.format(round(MSE_equ,3)))\n",
    "#print('Mean Square Error from Gradient Descent prediction : {}'.format(round(MSE_GD,3)))"
   ]
  },
  {
   "cell_type": "code",
   "execution_count": null,
   "metadata": {},
   "outputs": [],
   "source": []
  }
 ],
 "metadata": {
  "kernelspec": {
   "display_name": "Python 3",
   "language": "python",
   "name": "python3"
  },
  "language_info": {
   "codemirror_mode": {
    "name": "ipython",
    "version": 3
   },
   "file_extension": ".py",
   "mimetype": "text/x-python",
   "name": "python",
   "nbconvert_exporter": "python",
   "pygments_lexer": "ipython3",
   "version": "3.7.4"
  }
 },
 "nbformat": 4,
 "nbformat_minor": 2
}
